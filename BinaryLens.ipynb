{
 "cells": [
  {
   "cell_type": "markdown",
   "metadata": {},
   "source": [
    "*The recommended prerequisit for this notebook is [Single Lens](SingleLens.ipynb), but it may also be useful to have completed the [Modelling](Modelling.ipynb) notebook up to the MCMC Section.*"
   ]
  },
  {
   "cell_type": "code",
   "execution_count": 3,
   "metadata": {},
   "outputs": [],
   "source": [
    "# package imports (SHIFT + ENTER to run)\n",
    "import numpy as np\n",
    "import matplotlib.pyplot as plt\n",
    "from matplotlib.patches import Circle\n",
    "import ipywidgets as widgets\n",
    "from ipywidgets import interact\n",
    "import MulensModel as mm\n",
    "import emcee\n",
    "import corner\n",
    "import os\n",
    "from scipy.optimize import minimize\n",
    "import sys"
   ]
  },
  {
   "cell_type": "markdown",
   "metadata": {},
   "source": [
    "# The binary lens model\n",
    "\n",
    "Finding the magnification of a binary lens event at any point in the source's relative trajectory requires solving the lens equation for the system.  The lens equation in complex form, for $N$ lens-masses, is as follows:\n",
    "$$ \\zeta=z-\\sum_i^{N_l}\\frac{\\epsilon_i}{\\bar{z}-\\bar{z}_{m,i}}, $$\n",
    "where $\\epsilon_i \\equiv \\frac{m_i}{M_{\\rm L}}$, $z_{m,i}$ is the complex position of mass $i$; the source position $(u_1, u_2)$, as described in the 1L1S model, becomes $\\zeta=u_1+iu_2$ and the image position $(y_1, y_2)$ becomes $z=y_1+iy_2$.  Taking the complex conjugate of lens equation, allows us to find an expression for $\\bar{z}$.  This can be substituted back into the complex lens equation, creating a polynomial in terms of $z$, which increases in order with the increase in number of lens masses by $N_l^2+1$.  In the binary lens case, this results in a fifth-order, complex polynomial.  The coefficients of this polynomial can be found in [Gaudi (1998)]().  \n",
    "\n",
    "Solving this lens equation allows for the image positions to be found. To solve it, one must numerically find the five roots of the fifth-order polynomial, not all of which will necessarily be true image positions. Substituting the roots back into the lens equation allows the true image positions to be verified. \n",
    "\n",
    "> There will be three images when the source position is outside a closed caustic, projected on the source-plane, and there will be five images within such a closed caustic.\n",
    "\t\n",
    "Knowing the true image positions, the magnification of each image can be found by evaluating the inverse of the complex Jacobian determinant.\n",
    "$$ \\det J = 1 - \\frac{\\partial\\zeta}{\\partial\\bar{z}}\\frac{\\partial\\bar{\\zeta}}{\\partial z}, $$\n",
    "where\n",
    "$$ \\frac{\\partial\\zeta}{\\partial\\bar{z}}=\\sum_i^{N_l}\\frac{\\epsilon_i}{(\\bar{z}-\\bar{z}_{m,i})}. $$\n",
    "\n",
    "From this, the total magnification can be calculated as the sum of the absolute magnification from all the images;\n",
    "$$ A\\equiv\\sum_j|A_j|. $$\n",
    "\n",
    "> We use an absolute here because the magnifications have signs corresponding to parity.\n",
    "\n",
    "Source-plane locations are on caustic curves when the location corresponds to the set of image positions where $\\det J = 0$, for the relevant lens equation.  This is because the inverse of $\\det J$ for the lens equation gives us the magnification, and the inverse of 0 is infinity; the magnification is infinite when $\\det J = 0$. Requiring the determinate of the Jacobian to be zero forces the sum in Equation~\\ref{nlenspartial} to have a modulus equal to unity;\n",
    "$$ \\left|\\sum_i^{N_l}\\frac{\\epsilon_i}{(\\bar{z}-\\bar{z}_{m,i})^2}\\right|=1. $$\n",
    "\n",
    "Instead of having the largest possible magnification when the source is closest in angular separation to the lens, the binary lens has its greatest magnification when the projected source position is near or on a caustic. The magnification for source positions near these caustic is highest in the space extending from their cusps.\n",
    "\n",
    "<div style=\"text-align: center;\">\n",
    "    <img src=\"./Assets/cusp_and_fold.png\" alt=\"cuspfold\" width=\"300\" />\n",
    "</div>\n",
    "\n",
    "This is an example of one these theoretical curves. They are closed curves, with zero width, and an inside and an outside. The magnification inside of a caustic is greater than the magnification outside of a caustic because there are five images produced inside a caustic and three outside. The pointed and curved features of a caustic are called cusps and folds."
   ]
  },
  {
   "cell_type": "markdown",
   "metadata": {},
   "source": [
    "<style>\n",
    "    table {\n",
    "        margin-left: auto;\n",
    "        margin-right: auto;\n",
    "        width: 95%;\n",
    "        text-align: center;\n",
    "    }\n",
    "</style>\n",
    "\n",
    "| ![causticcrit](./Assets/caustics_and_criticals2.png) |\n",
    "| :-: |\n",
    "| Figure x: Caustic (blue) and critical (black) curves, shown for a range of $s$ and $q$ values, for BLs. The origin is the centre of mass between lens masses. The mid-point is indicated by the black \"+\"s'. Lens body positions are shown as red, filled circles, where their relative sizes relate to their relative log mass ($\\log_{10}m$). The diagrams with grey backgrounds indicate a lens configuration resulting in resonant caustics. The other diagrams show lens configurations resulting in separate planetary and central caustics. The axis are in units of $\\theta_{\\rm E}$. |\n",
    "\n",
    "<style>\n",
    ".exercise {\n",
    "    background-color: #E0E0E0;\n",
    "    border-left: 8px solid #808080;\n",
    "    padding: 10px 0 10px 20px;  /* top, right, bottom, left */\n",
    "    margin: 20px 5px;  \n",
    "    box-sizing: border-box;  \n",
    "}\n",
    ".exercise h2 {\n",
    "    color: #808080;\n",
    "    font-size: 24px;\n",
    "}\n",
    ".exercise p {\n",
    "    margin: 0 20px;  /* Adjust this value to add space after the paragraph */\n",
    "}\n",
    "</style>\n",
    "\n",
    "<div class=\"exercise\">\n",
    "    <h2>Exercise 1</h2>\n",
    "    <p>Finsih building the interactive <i>s</i> and <i>q</i> slider for visualising caustic and critical curves.</p>\n",
    "    <br>\n",
    "</div>\n",
    "\n",
    "First, you will need to install VBBL.\n",
    "\n",
    "```bash\n",
    "(TheGuide) ~/$ pip install VBBinaryLensing\n",
    "```\n",
    "\n",
    "If that worked you should be able to run the following code without error. You may need to restart the notebook kernel.\n"
   ]
  },
  {
   "cell_type": "code",
   "execution_count": 5,
   "metadata": {},
   "outputs": [],
   "source": [
    "import VBBinaryLensing as vbl"
   ]
  },
  {
   "cell_type": "code",
   "execution_count": 6,
   "metadata": {},
   "outputs": [
    {
     "data": {
      "application/vnd.jupyter.widget-view+json": {
       "model_id": "2a72d8bb3d3748f4991447873c71b063",
       "version_major": 2,
       "version_minor": 0
      },
      "text/plain": [
       "HBox(children=(FloatSlider(value=0.0, description='s', layout=Layout(width='500px'), max=0.3010299956639812, m…"
      ]
     },
     "metadata": {},
     "output_type": "display_data"
    },
    {
     "data": {
      "application/vnd.jupyter.widget-view+json": {
       "model_id": "dfd0543592ff46eaa8abca2cdaa72f8a",
       "version_major": 2,
       "version_minor": 0
      },
      "text/plain": [
       "HBox(children=(FloatSlider(value=-2.0, description='q', layout=Layout(width='500px'), max=0.0, min=-3.0, reado…"
      ]
     },
     "metadata": {},
     "output_type": "display_data"
    },
    {
     "data": {
      "application/vnd.jupyter.widget-view+json": {
       "model_id": "08add136784b4208945581915ef57bc3",
       "version_major": 2,
       "version_minor": 0
      },
      "image/png": "[encoded data removed]",
      "text/html": [
       "\n",
       "            <div style=\"display: inline-block;\">\n",
       "                <div class=\"jupyter-widgets widget-label\" style=\"text-align: center;\">\n",
       "                    Figure\n",
       "                </div>\n",
       "                <img src='data:image/png;base64,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' width=600.0/>\n",
       "            </div>\n",
       "        "
      ],
      "text/plain": [
       "Canvas(toolbar=Toolbar(toolitems=[('Home', 'Reset original view', 'home', 'home'), ('Back', 'Back to previous …"
      ]
     },
     "metadata": {},
     "output_type": "display_data"
    }
   ],
   "source": [
    "# s and q interactive slider plot\n",
    "# VBBL setup\n",
    "VBBL = vbl.VBBinaryLensing()\n",
    "a1 = 0.5  # limb-darkening\n",
    "VBBL.RelTol = 1e-03\n",
    "VBBL.a1 = a1\n",
    "\n",
    "def iterate_from(item):\n",
    "    while item is not None:\n",
    "        yield item\n",
    "        item = item.next\n",
    "\n",
    "def get_curves(s: float, q: float, VBBL: vbl.VBBinaryLensing) -> tuple:\n",
    "    '''\n",
    "    Returns the critical and caustic curves for a given s and q, using a VBBL object.\n",
    "\n",
    "    Parameters:\n",
    "    -----------\n",
    "    s : float\n",
    "        The separation between the two lens components.\n",
    "    q : float\n",
    "        The mass ratio of the two lens components.\n",
    "    VBBL : VBBinaryLensing object\n",
    "        The VBBinaryLensing object used to calculate the critical and caustic curves.\n",
    "\n",
    "    Returns:\n",
    "    --------\n",
    "    critical_curves : numpy.ndarray\n",
    "        The critical curves for the given s and q.\n",
    "    caustic_curves : numpy.ndarray\n",
    "        The caustic curves for the given s and q.\n",
    "    '''\n",
    "    solutions = VBBL.PlotCrit(s, q) # Returns _sols object containing n crit. curves followed by n caustic curves\n",
    "\n",
    "    curves = []\n",
    "    for curve in iterate_from(solutions.first):\n",
    "        for point in iterate_from(curve.first):\n",
    "            curves.append((point.x1, point.x2))\n",
    "            \n",
    "    critical_curves = np.array(curves[:int(len(curves)/2)])\n",
    "    caustic_curves = np.array(curves[int(len(curves)/2):])\n",
    "\n",
    "    return critical_curves, caustic_curves\n",
    "\n",
    "\n",
    "%matplotlib widget\n",
    "\n",
    "# Create the figure and axis globally so they are not recreated each time\n",
    "plt.close(1)  # Close the previous figure, if it exists\n",
    "plt.figure(figsize=(6, 6), num=1)\n",
    "fig = plt.gcf()\n",
    "ax = plt.gca()\n",
    "\n",
    "# Add a grid\n",
    "ax.grid(True, color='darkgrey', alpha=0.5)\n",
    "\n",
    "# Set axis to be equal\n",
    "ax.set_aspect('equal', adjustable='box')\n",
    "\n",
    "# Set axis limits\n",
    "ax.set_xlim(-1.5, 1.5)\n",
    "ax.set_ylim(-1.5,  1.5)\n",
    "\n",
    "# Update the plot without making a new figure\n",
    "fig.canvas.draw()\n",
    "\n",
    "def update_plot(logs_slider_value, logq_slider_value):\n",
    "\n",
    "    s, q = 10.0**logs_slider_value, 10.0**logq_slider_value\n",
    "\n",
    "    mtot = 100000000.0  # total scale mass (m1 + m2 = mtot)\n",
    "    # q = m2/m1  # mass ratio\n",
    "    # q*m1 = m2  # secondary lens mass\n",
    "    # m1 +q*m1 = mtot\n",
    "    # m1 * (1 + q) = mtot\n",
    "    m1 = mtot/(1.0+q)  # primary lens mass\n",
    "    m2 = mtot - m1  # secondary lens mass\n",
    "\n",
    "    # Clear the previous plot content but keep the figure and axis\n",
    "    ax.cla()  # Clear only the current axes\n",
    "\n",
    "    # Plot the circles\n",
    "    circle = Circle((0, 0), 1.0, edgecolor='darkgrey', facecolor='none', \n",
    "                    alpha=0.5, label=r'$\\theta_E$')\n",
    "    ax.add_patch(circle)\n",
    "\n",
    "    # plot lens masses\n",
    "\n",
    "    ax.plot(s*m1/mtot, 0, 'yo', markersize=np.log10(m2))  # primary lens\n",
    "    ax.plot(-s*m2/mtot, 0, 'ro', markersize=np.log10(m1))  # secondary lens\n",
    "    # center of mass is at the origin\n",
    "\n",
    "    # add your code here:\n",
    "    critical_curves, caustic_curves = get_curves(s, q, VBBL)\n",
    "    plt.plot(critical_curves[:, 0], critical_curves[:, 1], 'k.', markersize=0.5)\n",
    "    plt.plot(caustic_curves[:, 0], caustic_curves[:, 1], 'b.', markersize=0.5)\n",
    "    #\n",
    "\n",
    "    # Add a grid\n",
    "    ax.grid(True, color='darkgrey', alpha=0.5)\n",
    "\n",
    "    # Set axis to be equal\n",
    "    ax.set_aspect('equal', adjustable='box') \n",
    "\n",
    "    # Set axis limits\n",
    "    ax.set_xlim(-2.5, 2.5)\n",
    "    ax.set_ylim(-2.5, 2.5)   \n",
    "\n",
    "    # Update the plot without making a new figure\n",
    "    fig.canvas.draw()\n",
    "\n",
    "# Create interactive sliders and text boxes for s and q\n",
    "slider_style = {'description_width': '150px'}  # Set the width of the description textboxes\n",
    "slider_layout = widgets.Layout(width='500px')  # Set the width of the slider bars\n",
    "\n",
    "logs0, logq0 = 0.0, -2.0  # Initial values for s and q\n",
    "logsmin, logsmax = -5.0, np.log10(2.0)  # Minimum and maximum values for s\n",
    "logqmin, logqmax = -3.0, 0.0  # Minimum and maximum values for q\n",
    "\n",
    "logs_slider = widgets.FloatSlider(value=logs0, min=logsmin, max=logsmax, step=0.1, description='s', \n",
    "                               style=slider_style, layout=slider_layout, readout=False)\n",
    "s_text = widgets.FloatText(value=10.0**logs0)\n",
    "\n",
    "logq_slider = widgets.FloatSlider(value=logq0, min=logqmin, max=logqmax, step=0.1, description='q', \n",
    "                                style=slider_style, layout=slider_layout, readout=False)\n",
    "q_text = widgets.FloatText(value=10.0**logq0)\n",
    "\n",
    "# Define the custom transformation function\n",
    "def update_s_text(change):\n",
    "    s_text.value = 10.0 ** change['new']\n",
    "def update_q_text(change):\n",
    "    q_text.value = 10.0 ** change['new']\n",
    "\n",
    "def update_logs_slider(change):\n",
    "    logs_slider.value = np.log10(change['new'])\n",
    "def update_logq_slider(change):\n",
    "    logq_slider.value = np.log10(change['new'])\n",
    "\n",
    "# Link the slider to the text widget using the custom function\n",
    "logs_slider.observe(update_s_text, names='value')\n",
    "logq_slider.observe(update_q_text, names='value')\n",
    "\n",
    "# Link the text widget to the slider using the custom function\n",
    "s_text.observe(update_logs_slider, names='value')\n",
    "q_text.observe(update_logq_slider, names='value')\n",
    "\n",
    "# Add observers to update the plot when the text widgets change\n",
    "s_text.observe(lambda change: update_plot(logs_slider.value, logq_slider.value), names='value')\n",
    "q_text.observe(lambda change: update_plot(logs_slider.value, logq_slider.value), names='value')\n",
    "\n",
    "# Display sliders and text boxes\n",
    "display(widgets.HBox([logs_slider, s_text]))\n",
    "display(widgets.HBox([logq_slider, q_text]))\n",
    "\n",
    "# Initial plot\n",
    "update_plot(logs_slider.value, logq_slider.value)"
   ]
  },
  {
   "cell_type": "markdown",
   "metadata": {},
   "source": [
    "Binary lens models have caustic geometries with outer \"planetary\" and inner \"central\" caustic curves where the magnification is formally infinite. In events with lens object separation is around $\\theta_{\\rm E}$ (i.e., $s=1$), these caustics merge into a single caustic, known as a \"resonant caustic.\" Examples of these different caustic presentations are given in Figure x. The approximate boundaries for where these merged caustics become effectively separate are shown in Figure x. "
   ]
  },
  {
   "cell_type": "markdown",
   "metadata": {},
   "source": [
    "<style>\n",
    "    table {\n",
    "        margin-left: auto;\n",
    "        margin-right: auto;\n",
    "        width: 50%;\n",
    "        text-align: center;\n",
    "    }\n",
    "</style>\n",
    "\n",
    "| ![resonantregions](./Assets/Resonant_regions.png) |\n",
    "| :-: |\n",
    "| Figure x: Regions of differing caustic arrangements. These can also be considered the close-, intermediate-, and wide- separation regions (from left to right). This diagram is on the same scale as Figure~\\ref{Method-F:sqGrid}. |"
   ]
  },
  {
   "cell_type": "markdown",
   "metadata": {},
   "source": [
    "Unlike the single lens events, the Einstein ring is not the ring around which the lensed images are produced but is instead a mathematical construct used to give a relative scale to the model. In the binary lens system, images form around critical curves in the image plane, which envelope the lens masses. To find the critical image positions one can parametrically solve, for $\\phi=[0,2\\pi)$.\n",
    "$$\\sum_i^{N_l}\\frac{\\epsilon_i}{(\\bar{z}-\\bar{z}_{m,i})^2}=e^{i\\phi}. $$\n",
    "Figure x also shows examples of critical curves for different lens pairs (i.e., varied $s$ and $q$). \n",
    "\n",
    "The 2L1S model is much more complicated to parameterise than the single lens models. The binary lens model is parameterised by $(s,q,u_0,\\alpha,t_0,t_{\\rm E})$, where \n",
    "* $s$ describes the angular separation of the two lens masses in units of $\\theta_{\\rm E}$; \n",
    "* $q$ describes the mass ratio of the lens objects; \n",
    "* $u_0$ is the closest line-of-sight point of approach to the lens centre-of-mass made by the source in its relative trajectory; and \n",
    "* $t_0$ is the time at which this happens ($||{u(t_0)}||=u_0$, where $u(t_i)$ is the position of the source at a given time, $t$); \n",
    "* $\\alpha$ is the angle of the source's trajectory relative to an axis that passes through both the fixed lens masses; and \n",
    "* $t_{\\rm E}$ is the Einstein ring crossing time (the time the source takes to travel an angular distance of $\\theta_{\\rm E}$).  \n",
    "\n",
    "A depiction of these parameters is shown in Figure x.\n",
    "\n",
    "> $\\rho$ is also included in this figure and it describes the apparent source radius in units of $\\theta_{\\rm E}$ and is a higher-order effect that is usually well constrained in binary lens events with caustic crossings."
   ]
  },
  {
   "cell_type": "markdown",
   "metadata": {},
   "source": [
    "<style>\n",
    "    table {\n",
    "        margin-left: auto;\n",
    "        margin-right: auto;\n",
    "        width: 75%;\n",
    "        text-align: center;\n",
    "    }\n",
    "</style>\n",
    "\n",
    "| ![magmap](./Assets/mag_map_and_params.png) |\n",
    "| :-: |\n",
    "|Figure x: Magnification map for $s=1$, $q=0.4$ with binary lens modelling parameters depicted. The single, large, resonant caustic structure is apparent between the lens object positions (red dots with sizes corresponding to their relative $\\log_{10}m$). |"
   ]
  },
  {
   "cell_type": "markdown",
   "metadata": {},
   "source": [
    "A simulated binary lens magnification map, for a fixed $s$ and $q$, can be seen in the background of Figure x. The source positions $(u_1, u_2)$ resulting in the greatest magnification ($A$) are those closest to, or crossing, the caustics. This kind of map represents the magnification you would observe with a point source. A binary lens magnification curve can be produced for a specific set of parameters of the binary lens model, by interpolating a \"source trajectory\" across a magnification map. The result of performing one of these trajectory interpolations is demonstrated in Figure 1. The various tools used for these calculations are discussed . A magnification model, $A(t)$, with binary lens model parameters, $\\Theta$, can be fit to a data set with epochs, $t$, using the same linear regression process described in [Single Lenses](SingleLens.ipynb) and [Modelling](Modelling.ipynb). "
   ]
  },
  {
   "cell_type": "markdown",
   "metadata": {},
   "source": [
    "<style>\n",
    "    table {\n",
    "        margin-left: auto;\n",
    "        margin-right: auto;\n",
    "        width: 95%;\n",
    "        text-align: center;\n",
    "    }\n",
    "</style>\n",
    "\n",
    "| ![fsbltraj](./Assets/binary_trajectories_FS.png) |\n",
    "| :-: |\n",
    "| Figure 1: *Left:* Example caustic (blue) diagram, showing set of trajectories (purple) with varying $u_0$. The lens object positions are plotted as red, filled circles, where their relative sizes relate to their relative log mass ($\\log_{10}m$). The centre of mass is indicated by the black \"+\"s'. The scale of the caustic diagram is in units of $\\theta_{\\rm E}$. The angular source size ($\\rho=0.05$) and relative trajectory direction (where $\\alpha=\\pi/2$) are indicated by the circle and arrow on the trajectory lines, respectively. *Right:* Corresponding magnification curves, given the trajectories shown on the caustic diagram (*left*). |"
   ]
  },
  {
   "cell_type": "markdown",
   "metadata": {},
   "source": [
    "Beyond short-cuts to interpreting the physical underpinnings of microlensing events, the collective experiences of the community also teach us about common degeneracies that indicate possibly viable arrangements, which may otherwise have been missed (see [Tsapras, 2018]() and references therein). Three of theses degeneracies are described here.\n",
    "\n",
    "1. The geometry of lensing produces a fourfold degeneracy for parallax events (Gould, 1994), detailed in the [Higher Order](HigherOrder.ipynb) notebook. \n",
    "1. There is a well-known degeneracy between close- and wide-separation binary lenses (Dominik, 1999), but which should really be called inner and outer degenerate separations according to \\cite{G23}.\n",
    "    + This degeneracy is demonstrated in the $(s,q)$ grid searches, such as the one shown in Figure 2. This occurs because large-$q$ close solutions and smaller-q wide solutions can create similar magnifications curves, provided the other microlensing parameters are free. This similarity in magnification space is demonstrated in the caustics diagrams of a large-$q$, close-$s$ lenses and smaller-$q$, wide-$s$ lenses, in Figure x. \n",
    "1. More recently, a degeneracy was found to exist for \"bump events\" (Ryu et al., 2022), named the \"central-resonant\" degeneracy (Yang et al., 2022), such as the one in OGLE-2016-BLG-1195 (Gould, 2023).\n",
    "\n",
    "> \"Close\" is used to refer to $s<\\theta_{\\rm E}$ ($\\log_{10} s<0$), and \"wide\" to $s>\\theta_{\\rm E}$ ($\\log_{10} s >0$). "
   ]
  },
  {
   "cell_type": "markdown",
   "metadata": {},
   "source": [
    "<style>\n",
    "    table {\n",
    "        margin-left: auto;\n",
    "        margin-right: auto;\n",
    "        width: 60%;\n",
    "        text-align: center;\n",
    "    }\n",
    "</style>\n",
    "\n",
    "| ![gridsearch](./Assets/chi2_map.png) |\n",
    "| :-: |\n",
    "| Figure 2: Grid Search over $s$ and $q$, with discretely searched $\\rho$ values and the remaining microlensing parameters explored freely, for event OGLE-2017-BLG-1038. The $\\chi^2$ values shown represent the best-fit value for the fixed $s$ and $q$; the $\\rho$ dimension has been collapsed to its best-fit value. |"
   ]
  },
  {
   "cell_type": "markdown",
   "metadata": {},
   "source": [
    "<style>\n",
    "    table {\n",
    "        margin-left: auto;\n",
    "        margin-right: auto;\n",
    "        width: 95%;\n",
    "        text-align: center;\n",
    "    }\n",
    "</style>\n",
    "\n",
    "| ![closewide](./Assets/close_wide_degeneracy.png) |\n",
    "| :-: |\n",
    "| Caustic diagrams demonstrating the potential for similar magnification curves for trajectories around caustics of large-q, close-s lenses (e.g. *left*) and smaller-q, wide-s lenses (e.g. *right*). For these diagrams, the caustics are shown in blue and critical curves in black. The origin is the centre of mass between lens masses. The mid-point is indicated by the black \"+\"s'. Lens body positions are shown as red, filled circles, where their relative sizes relate to their relative log mass ($\\log_{10}m$), The zoomed in portions of the diagrams have the same scale and the axis are in units of $\\theta_{\\rm E}$.|\n",
    "\n",
    "The 1L2S models are often degenerate with 2L1S, without observed caustic crossings. For example, the binary-source model shown in Figure~\\ref{Method-F:BinarySourceLC} has a degenerate binary lens model (reproduced here as Figure~\\ref{Method-F:J17-F3}). The situational importance of this degeneracy is explained in \\cite{Gaudi1998}. It is only through thorough modelling investigations that we can determine which model is most likely and by what degree of significance. \n",
    "\n",
    "|  ![jung2017f3](./Assets/F3.png) |\n",
    "| :-: |\n",
    "| Reproduction of Jung et al (2017), Figure 3: Geometry and lightcurve of the [binary lens] model. *Top:* The upper panel shows the geometry of the [binary lens] model. The straight line with an arrow is the source trajectory, red closed concave curves represent the caustics, and blue filled circles (marked by $M_1$ and $M_2$) are the [binary lens] components. All length scales are normalised by the Einstein radius. The inset shows the general view and the major panel shows the enlarged view corresponding to the lightcurve of the lower panel. The open circle on the source trajectory is the source position at the time of observation whose size represents the source size. *Bottom:* The lower panel shows the enlarged view of the anomaly region. The inset shows a zoom of the lightcurve near $\\rm{HJD}'\\sim7501.4$. The curve superposed on the data is the best-fit [binary-lens] model. |"
   ]
  },
  {
   "cell_type": "markdown",
   "metadata": {},
   "source": [
    "## Nest Steps\n",
    "\n",
    "Oh hey, you're finished! Well done. That was huge.\n",
    "\n",
    "If you haven't already, you should check out these notebooks:\n",
    "\n",
    "* [Binary Sources](BinarySource.ipynb), and\n",
    "* [Modelling](Modelling.ipynb) (expanded in dev).\n",
    "\n",
    "Otherwise, a good option to takcle next would be:\n",
    "\n",
    "[Higher-Order Effects]() (in preperation)."
   ]
  }
 ],
 "metadata": {
  "kernelspec": {
   "display_name": "TheGuide",
   "language": "python",
   "name": "python3"
  },
  "language_info": {
   "codemirror_mode": {
    "name": "ipython",
    "version": 3
   },
   "file_extension": ".py",
   "mimetype": "text/x-python",
   "name": "python",
   "nbconvert_exporter": "python",
   "pygments_lexer": "ipython3",
   "version": "3.10.16"
  }
 },
 "nbformat": 4,
 "nbformat_minor": 2
}
