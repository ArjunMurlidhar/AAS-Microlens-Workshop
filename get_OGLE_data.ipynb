{
 "cells": [
  {
   "cell_type": "code",
   "execution_count": null,
   "metadata": {
    "vscode": {
     "languageId": "plaintext"
    }
   },
   "outputs": [],
   "source": [
    "# system tools\n",
    "import os\n",
    "import sys\n",
    "from io import StringIO\n",
    "import shutil\n",
    "\n",
    "# web scrapping tools\n",
    "import bs4 as bs\n",
    "import urllib\n",
    "import urllib.request\n",
    "import pandas as pd\n",
    "\n",
    "#---\n",
    "\n",
    "def get_data_url(event: str) -> str:\n",
    "    '''Takes an event name and returns the URL for the data page.'''\n",
    "\n",
    "    event = event.split('-') # split the event name into its components, seperated by '-'\n",
    "    year = event[0]  # the first component is the year\n",
    "    region = event[1].lower()  # the second component is region (e.g., blg or gd), which we need to make lower case.\n",
    "    number = event[2]  #\n",
    "    url = f'https://www.astrouw.edu.pl/ogle/ogle4/ews/{year}/{region}-{number}/phot.dat'\n",
    "\n",
    "    return url\n",
    "\n",
    "def get_param_url(event: str) -> str:\n",
    "    '''Takes an event name and returns the URL for the parameter page.'''\n",
    "\n",
    "    event = event.split('-') # split the event name into its components, seperated by '-'\n",
    "    year = event[0]  # the first component is the year\n",
    "    region = event[1].lower()  # the second component is region (e.g., blg or gd), which we need to make lower case.\n",
    "    number = event[2]  #\n",
    "    url = f'https://www.astrouw.edu.pl/ogle/ogle4/ews/{year}/{region}-{number}/params.dat'\n",
    "\n",
    "    return url\n",
    "\n",
    "def fetch_event_data(url: str) -> pd.DataFrame:\n",
    "    '''Takes a url and returns the data as a pandas dataframe.'''\n",
    "\n",
    "    # Read the data from the URL\n",
    "    response = urllib.request.urlopen(url)\n",
    "    data = response.read().decode('utf-8')\n",
    "\n",
    "    # Convert the data to a pandas DataFrame\n",
    "    #df = pd.read_csv(StringIO(data), delim_whitespace=True, header=None, names=['HJD', 'I magnitude', 'magnitude error', 'seeing', 'sky level'])\n",
    "    df = pd.read_csv(StringIO(data), sep=r'\\s+', header=None, names=['HJD', 'I magnitude', 'magnitude error', 'seeing', 'sky level'])\n",
    "\n",
    "    return df\n",
    "\n",
    "#---\n",
    "\n",
    "def fetch_table_data(url):\n",
    "    '''Takes a URL and returns the first table as a pandas DataFrame.'''\n",
    "    source = urllib.request.urlopen(url).read().decode('utf-8')\n",
    "    df = pd.read_csv(StringIO(source), sep=r'\\s+', header=5, names=['Parameter', 'Value', 'Error'])\n",
    "\n",
    "    return df\n",
    "\n",
    "\n",
    "\n",
    "\n"
   ]
  },
  {
   "cell_type": "code",
   "execution_count": null,
   "metadata": {
    "vscode": {
     "languageId": "plaintext"
    }
   },
   "outputs": [],
   "source": [
    "\n",
    "\n",
    "event = '2012-BLG-0406'\n",
    "url_data = get_data_url(event)\n",
    "url_param = get_param_url(event)\n",
    "data = fetch_event_data(url_data)\n",
    "data['HJD'] = data['HJD'] - 2450000\n",
    "params = fetch_table_data(url_param)\n",
    "data_columns = ['HJD', 'I magnitude', 'magnitude error']\n",
    "params_columns = ['Parameter', 'Value', 'Error']\n",
    "\n",
    "data.to_csv(\n",
    "    '../gulls_stuff/%s_data.txt'%event,          # output path\n",
    "    columns=data_columns,  # only these columns\n",
    "    sep='\\t',              # delimiter (e.g. '\\t', ',' or ' ')\n",
    "    index=False,           # don’t write row numbers\n",
    "    header=['HJD-2450000', 'I_Mag', 'Err']           # include the column names\n",
    ")\n",
    "params.to_csv(\n",
    "    '../gulls_stuff/%s_params.txt'%event,          # output path\n",
    "    columns=params_columns,  # only these columns\n",
    "    sep='\\t',              # delimiter (e.g. '\\t', ',' or ' ')\n",
    "    index=False,           # don’t write row numbers\n",
    "    header=True            # include the column names\n",
    ")"
   ]
  },
  {
   "cell_type": "code",
   "execution_count": null,
   "metadata": {
    "vscode": {
     "languageId": "plaintext"
    }
   },
   "outputs": [],
   "source": [
    "event = '2012-BLG-0406'\n",
    "time, mag, magerr = np.loadtxt('../gulls_stuff/%s_data.txt'%event, delimiter='\\t', skiprows=1, unpack=True)\n",
    "\n",
    "plt.figure(figsize=(8, 5))\n",
    "plt.errorbar(time,mag,yerr=magerr,fmt='x',color='black')\n",
    "plt.xlabel('HJD')\n",
    "plt.ylabel('I magnitude')\n",
    "plt.gca().invert_yaxis()\n",
    "plt.title('OGLE-%s' % event)\n",
    "\n",
    "                  "
   ]
  },
  {
   "cell_type": "code",
   "execution_count": null,
   "metadata": {
    "vscode": {
     "languageId": "plaintext"
    }
   },
   "outputs": [],
   "source": []
  }
 ],
 "metadata": {
  "language_info": {
   "name": "python"
  }
 },
 "nbformat": 4,
 "nbformat_minor": 2
}
